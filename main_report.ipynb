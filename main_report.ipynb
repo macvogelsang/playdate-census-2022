{
 "cells": [
  {
   "cell_type": "code",
   "execution_count": 1,
   "metadata": {},
   "outputs": [],
   "source": [
    "import numpy as np\n",
    "import pandas as pd\n",
    "import plotly.express as px\n",
    "from scipy import stats\n",
    "\n",
    "%load_ext autoreload\n",
    "%autoreload 2\n",
    "\n",
    "import utils as plot"
   ]
  },
  {
   "cell_type": "markdown",
   "metadata": {},
   "source": [
    "## Load Raw Data"
   ]
  },
  {
   "cell_type": "code",
   "execution_count": 2,
   "metadata": {},
   "outputs": [],
   "source": [
    "data = pd.read_csv('raw_data/census.csv')\n",
    "gd = data.replace('nan', np.nan)\n",
    "gd = gd.astype({'season_feedback':str})\n",
    "for col in ['have_ordered', 'have_playdate', 'dev_playdate', 'use_pulp', 'use_sdk', \n",
    "    'aware_of_wiki', 'read_wiki', 'updated_wiki', 'know_other_owners', 'arrival_issues', 'developed_issues']:\n",
    "    gd.loc[gd[col].notna(), col] = gd[col] == 'Yes'\n"
   ]
  },
  {
   "cell_type": "markdown",
   "metadata": {},
   "source": [
    "## Load and Plot Normalized Game Responses"
   ]
  },
  {
   "cell_type": "code",
   "execution_count": null,
   "metadata": {},
   "outputs": [],
   "source": [
    "exciting_s1 = pd.read_csv('normalized_short_responses/exciting_s1.csv')\n",
    "exciting_non_s1 = pd.read_csv('normalized_short_responses/exciting_non_s1.csv').replace('legend etad', 'legend of etad').replace('botanist','the botanist')\n",
    "\n",
    "fig, _ = plot.horizontal_bar(exciting_s1, title='Most exciting season one game', other_threshold=0, total_responses=gd[season_game_col].notna().sum(), vertical=True)\n",
    "fig.update_layout(width=1400, bargap=0.1)\n",
    "fig.update_traces(textfont_size=13)\n",
    "fig.show()\n",
    "fig, new_pd = plot.horizontal_bar(exciting_non_s1, title='Most exciting community game', other_threshold=3, total_responses=gd[indie_game_col].notna().sum(), vertical=True)\n",
    "fig.update_layout(width=1200, bargap=0.1)\n",
    "fig.update_traces(textfont_size=13)\n",
    "fig.show()"
   ]
  },
  {
   "cell_type": "markdown",
   "metadata": {},
   "source": [
    "## Histogram Satisfaction Scores"
   ]
  },
  {
   "cell_type": "code",
   "execution_count": null,
   "metadata": {},
   "outputs": [],
   "source": [
    "print((gd.have_playdate & (gd.arrival_issues | gd.developed_issues )).sum())\n",
    "print(gd.have_playdate.sum())\n",
    "plot.score_hist(gd[gd.have_playdate == False], 'overall_satisfaction', 'Overall Satisfaction - No Device Yet').show()\n",
    "plot.score_hist(gd[gd.have_playdate == True], 'overall_satisfaction', 'Overall Satisfaction - Have Device').show()\n",
    "plot.score_hist(gd, 'satisfied_with_season', 'Season Satisfaction Scores').show()\n",
    "plot.score_hist(gd[gd.have_playdate == True], 'satisfied_with_games', 'Season Game Satisfaction Scores').show()\n",
    "plot.score_hist(gd[gd.have_playdate == True], 'build_quality', 'Satisfaction with Build Quality').show()\n",
    "plot.score_hist(gd, 'satistfied_with_support', 'Satisfaction with Panic Support').show()\n"
   ]
  },
  {
   "cell_type": "markdown",
   "metadata": {},
   "source": [
    "## Various Pie Charts"
   ]
  },
  {
   "cell_type": "code",
   "execution_count": null,
   "metadata": {},
   "outputs": [],
   "source": [
    "gd.loc[gd.spoiler_free == \"I'm not avoiding spoilers\", 'spoiler_free'] = 'No'\n",
    "\n",
    "# plot.pie(gd[gd.have_ordered == True], 'spoiler_free', 'Have Their Device', trace_order=['Yes', 'Mostly','No']).show()\n",
    "plot.pie(gd, 'spoiler_free', 'Avoiding spoilers', trace_order=['Yes', 'Mostly','No']).show()\n",
    "plot.pie(gd, 'purchase_season_2').show()\n",
    "plot.pie(gd, 'known_developer').show()\n",
    "plot.pie(gd[gd.have_ordered], 'will_order_dock').show()\n",
    "plot.pie(gd[gd.have_ordered], 'have_ordered_cover').show()"
   ]
  },
  {
   "cell_type": "code",
   "execution_count": null,
   "metadata": {},
   "outputs": [],
   "source": [
    "devs = gd[gd.dev_playdate].copy()\n",
    "def split_by_tool(row):\n",
    "    if row.use_pulp and row.use_sdk:\n",
    "        return 'Both'\n",
    "    if row.use_pulp:\n",
    "        return 'Pulp'\n",
    "    if row.use_sdk:\n",
    "        return 'SDK'\n",
    "    \n",
    "    return 'Neither'\n",
    "\n",
    "devs['tool'] = devs.apply(split_by_tool, axis=1)\n",
    "plot.pie(devs, 'tool', 'How do you develop for the Playdate?').show()\n",
    "plot.pie(devs[devs.use_sdk], 'dev_language', 'SDK Users: C or Lua?')"
   ]
  },
  {
   "cell_type": "code",
   "execution_count": null,
   "metadata": {},
   "outputs": [],
   "source": [
    "fig = plot.pie(gd[gd.have_ordered & gd.order_group], 'order_group', 'group')\n",
    "fig.update_layout(width=820, height=820, legend=dict(font_size=20))\n",
    "fig.update_traces(textfont_size=30 )\n",
    "fig.show()"
   ]
  },
  {
   "cell_type": "markdown",
   "metadata": {},
   "source": [
    "## Season 2 Pricing Histograms"
   ]
  },
  {
   "cell_type": "code",
   "execution_count": null,
   "metadata": {},
   "outputs": [],
   "source": [
    "# remove outliers\n",
    "pd = gd[['timestamp','have_playdate','have_ordered','pay_for_12_games','pay_for_24_games', 'have_purchased_game']].copy()\n",
    "number_cols = ['pay_for_12_games','pay_for_24_games']\n",
    "pd[number_cols] = pd[pd[number_cols] < 200][number_cols]\n",
    "pd[number_cols] = pd.where(np.abs(stats.zscore(pd[number_cols], axis=0, nan_policy='omit')) < 3, np.nan)[number_cols]\n",
    "\n",
    "\n",
    "plot.histogram(pd, 'pay_for_12_games', 'Price (USD) for 12 games').show()\n",
    "plot.histogram(pd, 'pay_for_24_games', 'Price (USD) for 24 games')"
   ]
  },
  {
   "cell_type": "markdown",
   "metadata": {},
   "source": [
    "## Load Tagged Free Response Data"
   ]
  },
  {
   "cell_type": "code",
   "execution_count": 3,
   "metadata": {},
   "outputs": [],
   "source": [
    "target_dir = 'tagged_open_responses'\n",
    "def import_open_responses(name, ncols=None):\n",
    "    cols_to_use = range(ncols) if ncols else None\n",
    "    df= pd.read_csv(f'{target_dir}/raw/{name}.csv', skiprows=[1], usecols=cols_to_use)\n",
    "    df = df.rename(columns={df.columns[0]:'comment'})\n",
    "    df = df.dropna(subset='comment').fillna(0)\n",
    "    df.to_csv(f'{target_dir}/{name}.csv', index=False)\n",
    "    return df\n",
    "sdk_requests = import_open_responses('sdk_requests')\n",
    "sdk_feedback = import_open_responses('sdk_feedback', ncols=8)\n",
    "pulp_requests = import_open_responses('pulp_requests')\n",
    "pulp_feedback = import_open_responses('pulp_feedback', ncols=6)\n",
    "aspect_of_playdate = import_open_responses('aspect_of_playdate', ncols=13)\n",
    "support_feedback = import_open_responses('support_feedback', ncols=9)\n",
    "wiki_feedback = import_open_responses('wiki_feedback', ncols=8)\n",
    "wiki_feedback_pie = import_open_responses('wiki_feedback_pie', ncols=8)\n",
    "season_delivery = import_open_responses('season_delivery', ncols=10)\n",
    "season_games = import_open_responses('season_games', ncols=8)\n",
    "panic_feedback = import_open_responses('panic_feedback', ncols=15)\n",
    "next_12_months = import_open_responses('next_12_months', ncols=14)\n"
   ]
  },
  {
   "cell_type": "markdown",
   "metadata": {},
   "source": [
    "### Test for tags that are too similar"
   ]
  },
  {
   "cell_type": "code",
   "execution_count": null,
   "metadata": {},
   "outputs": [],
   "source": [
    "plot.tag_similarity_matrix(next_12_months)"
   ]
  },
  {
   "cell_type": "markdown",
   "metadata": {},
   "source": [
    "### Wiki Feedback gets a pie since it is fully disjoint"
   ]
  },
  {
   "cell_type": "code",
   "execution_count": null,
   "metadata": {},
   "outputs": [],
   "source": [
    "data = wiki_feedback_pie.drop(columns='comment')\n",
    "data = data.loc[~(data==0).all(axis=1)]\n",
    "data =data.sum().astype(int).to_frame().reset_index()\n",
    "data.columns = ['tag', 'num']\n",
    "fig = plot.pie(data, 'num', horizontal=False, counted=True)\n",
    "fig.update_layout(width = 450, height=450)\n",
    "fig.update_traces(textinfo='value+percent')"
   ]
  },
  {
   "cell_type": "markdown",
   "metadata": {},
   "source": [
    "## Tagged Responses Bubble Chart"
   ]
  },
  {
   "cell_type": "code",
   "execution_count": null,
   "metadata": {},
   "outputs": [],
   "source": [
    "fig, dtp, n = plot.bubble_chart(panic_feedback, '')\n",
    "print(n, 'responses')\n",
    "fig.show()"
   ]
  },
  {
   "cell_type": "markdown",
   "metadata": {},
   "source": [
    "## Tagged Responses Horizontal Bar"
   ]
  },
  {
   "cell_type": "code",
   "execution_count": null,
   "metadata": {},
   "outputs": [],
   "source": [
    "# fig, _ = plot.horizontal_bar_tags(sdk_requests, 'SDK Feature Requests')\n",
    "# fig.show()\n",
    "fig, _ = plot.horizontal_bar_tags(pulp_requests, 'Pulp Feature Requests')\n",
    "fig.show()\n",
    "# fig, _ = plot.horizontal_bar_tags(pulp_feedback, 'Feedback for Pulp team')\n",
    "# fig.show()"
   ]
  },
  {
   "cell_type": "markdown",
   "metadata": {},
   "source": [
    "## Process text for word cloud"
   ]
  },
  {
   "cell_type": "code",
   "execution_count": null,
   "metadata": {},
   "outputs": [],
   "source": [
    "plot.word_cloud_pipeline(gd, 'next_12_months', 0.25, 2, True)\n",
    "# plot.word_cloud_pipeline(gd, 'season_game_feedback', 0.05, 2, True)\n"
   ]
  },
  {
   "cell_type": "markdown",
   "metadata": {},
   "source": [
    "## Marimekko Charts"
   ]
  },
  {
   "cell_type": "code",
   "execution_count": null,
   "metadata": {},
   "outputs": [],
   "source": [
    "cols = ['quick_hit_price', 'short_price', 'standard_price', 'long_price', 'highest_price']\n",
    "top_labels = ['Free', '$1 - $3', '$4 - $6', '$7 - $10', '$11 - 19', '$20 - 29', '$30 & above']\n",
    "side_labels = ['quick hit or gimmick', 'short / lower quality', 'standard length / quality', 'longer / high quality', 'highest quality']\n",
    "\n",
    "plot.horizontal_marimekko(gd, cols, top_labels, side_labels)\n"
   ]
  },
  {
   "cell_type": "code",
   "execution_count": null,
   "metadata": {},
   "outputs": [],
   "source": [
    "cols = ['session_10min', 'session_30min', 'session_60min', 'session_hour_plus']\n",
    "top_labels = ['Never','Rarely', 'Sometimes', 'Often', 'Always']\n",
    "side_labels = ['1 - 10 mins', '11-30 mins', '31-60 mins', 'Over an hour']\n",
    "plot.horizontal_marimekko(gd, cols, top_labels, side_labels)"
   ]
  },
  {
   "cell_type": "code",
   "execution_count": null,
   "metadata": {},
   "outputs": [],
   "source": [
    "cols = [\n",
    "'twitter_engagement',\n",
    "'discord_engagement',\n",
    "'reddit_engagement',\n",
    "'itch_engagement',\n",
    "'forum_engagement',\n",
    "'youtube_engagement',\n",
    "'wiki_engagement',\n",
    "'twitch_engagement'\n",
    "]\n",
    "top_labels = ['Never','Once or twice', 'Weekly', 'Couple times a week', 'Daily', 'Many times a day']\n",
    "side_labels = ['Twitter', 'Discord', 'Reddit', 'Itch', 'Devforum', 'Youtube', 'Wiki', 'Twitch']\n",
    "plot.horizontal_marimekko(gd, cols, top_labels, side_labels)"
   ]
  },
  {
   "cell_type": "markdown",
   "metadata": {},
   "source": [
    "## Random math"
   ]
  },
  {
   "cell_type": "code",
   "execution_count": null,
   "metadata": {},
   "outputs": [],
   "source": [
    "print('ordered with friends', len(gd[gd.have_ordered & gd.know_other_owners])/gd.have_ordered.sum() * 100)\n",
    "print('no order but have friends', len(gd[~gd.have_ordered & gd.know_other_owners])/(~gd.have_ordered).sum() * 100)\n",
    "# aware_of_wiki', 'read_wiki', 'updated_wiki',\n",
    "print(\n",
    "    gd[gd.updated_wiki & gd.dev_playdate].timestamp.count() / gd.updated_wiki.sum() * 100\n",
    ")"
   ]
  },
  {
   "cell_type": "markdown",
   "metadata": {},
   "source": [
    "## Color Suggestions"
   ]
  },
  {
   "cell_type": "code",
   "execution_count": null,
   "metadata": {},
   "outputs": [],
   "source": [
    "colors = pd.read_csv('open_responses/color_suggestions.csv')\n",
    "colors.loc[~colors.yellow_color.isin([\"I don't mind\", \"I love it\"]), 'yellow_color'] = 'Other'\n",
    "plot.pie(colors, 'yellow_color', 'Color preferences')"
   ]
  },
  {
   "cell_type": "code",
   "execution_count": null,
   "metadata": {},
   "outputs": [],
   "source": [
    "color_suggestions = plot.explode_multiple_choice(colors, 'color', delim='|')\n",
    "fig, _ = plot.horizontal_bar(color_suggestions, \n",
    "        title='Color Suggestions', \n",
    "        col='color', \n",
    "        other_threshold=2\n",
    ")\n",
    "fig.update_layout(width=500)\n",
    "fig.show()"
   ]
  },
  {
   "cell_type": "markdown",
   "metadata": {},
   "source": [
    "## Demographics Charts"
   ]
  },
  {
   "cell_type": "code",
   "execution_count": null,
   "metadata": {},
   "outputs": [],
   "source": [
    "plot.pie(gd, 'age', trace_order=['Under 18', '18-25', '26-35', '36-45', '46+'], horizontal=True).show()\n",
    "gd.loc[~gd.gender.isin(['Male', 'Female', 'Prefer not to say', 'Non-binary']), 'gender'] = 'Other'\n",
    "plot.pie(gd, 'gender', horizontal=True).show()\n",
    "plot.pie(gd, 'continent', horizontal=True)\n"
   ]
  },
  {
   "cell_type": "code",
   "execution_count": null,
   "metadata": {},
   "outputs": [],
   "source": [
    "gd.loc[~gd.desktop_os.isin(['Windows', 'Mac', 'Linux']), 'desktop_os'] = 'Other'\n",
    "plot.pie(gd, 'desktop_os').show()\n",
    "\n",
    "gd.loc[~gd.mobile_os.isin(['iOS', 'Android', 'Other']), 'mobile_os'] = 'Other'\n",
    "plot.pie(gd, 'mobile_os').show()\n"
   ]
  },
  {
   "cell_type": "code",
   "execution_count": null,
   "metadata": {},
   "outputs": [],
   "source": [
    "print('windows / iphone', gd[(gd.desktop_os == 'Windows') & (gd.mobile_os == 'iOS')].timestamp.count() / len(gd.index) * 100)\n",
    "print('macos / android', gd[(gd.desktop_os == 'Mac') & (gd.mobile_os == 'Android')].timestamp.count() / len(gd.index) * 100)"
   ]
  },
  {
   "cell_type": "code",
   "execution_count": null,
   "metadata": {},
   "outputs": [],
   "source": [
    "indie_consoles = pd.read_csv('normalized_short_responses/other_indie_consoles_cleaned.csv')\n",
    "indie_consoles = indie_consoles[indie_consoles.other_indie_consoles != 'Playdate']\n",
    "fig, dtp = plot.horizontal_bar(indie_consoles, title='indie consoles', col='other_indie_consoles', total_responses=gd.other_indie_consoles.notna().sum(), other_threshold=4)\n",
    "fig.show()\n",
    "print(gd.other_indie_consoles.notna().sum())"
   ]
  },
  {
   "cell_type": "code",
   "execution_count": null,
   "metadata": {},
   "outputs": [],
   "source": [
    "consoles = plot.explode_multiple_choice(gd, 'other_consoles', ',')\n",
    "fig, dtp = plot.horizontal_bar(consoles, title='mainstream consoles', col='other_consoles', total_responses=gd.other_consoles.notna().sum())\n",
    "fig.show()"
   ]
  },
  {
   "cell_type": "code",
   "execution_count": null,
   "metadata": {},
   "outputs": [],
   "source": [
    "content = pd.read_csv('normalized_short_responses/playdate_content_cleaned.csv')\n",
    "fig, dtp = plot.horizontal_bar(content, title='playdate news and content', col='playdate_content', total_responses=gd.playdate_content.notna().sum(), other_threshold=4, vertical=True)\n",
    "fig.show()\n",
    "print(gd.playdate_content.notna().sum())"
   ]
  },
  {
   "cell_type": "markdown",
   "metadata": {},
   "source": [
    "## Dev tools"
   ]
  },
  {
   "cell_type": "code",
   "execution_count": null,
   "metadata": {},
   "outputs": [],
   "source": [
    "content = pd.read_csv('normalized_short_responses/dev_tools_cleaned.csv')\n",
    "fig, dtp = plot.horizontal_bar(content, title='dev tools', col='dev_tools', total_responses=gd.dev_tools.notna().sum(), other_threshold=1, vertical=False)\n",
    "fig.show()\n",
    "print(gd.dev_tools.notna().sum())"
   ]
  },
  {
   "cell_type": "code",
   "execution_count": null,
   "metadata": {},
   "outputs": [],
   "source": [
    "content = pd.read_csv('normalized_short_responses/dev_playdate_tools_cleaned.csv')\n",
    "fig, dtp = plot.horizontal_bar(content, title='dev tools', col='dev_playdate_tools', vertical=True, total_responses=gd.dev_playdate_tools.notna().sum(), other_threshold=1)\n",
    "fig.show()\n",
    "print(gd.dev_playdate_tools.notna().sum())"
   ]
  },
  {
   "cell_type": "markdown",
   "metadata": {},
   "source": [
    "## Game Tags Analysis"
   ]
  },
  {
   "cell_type": "code",
   "execution_count": null,
   "metadata": {},
   "outputs": [],
   "source": [
    "gd = gd.replace('Building \\(Base, city ect\\)', 'City Building', regex=True)\n",
    "gt = plot.explode_multiple_choice(gd, 'game_tags', delim=',')\n",
    "non_male = gt[gt.gender != 'Male']\n",
    "male = gt[gt.gender == 'Male']\n",
    "fig, data = plot.horizontal_bar(gt, \n",
    "        title='Game tags', \n",
    "        col='game_tags', \n",
    "        total_responses=gd.game_tags.notna().sum(),\n",
    "        bot_n=None, top_n=20\n",
    ")\n",
    "fig.update_layout(\n",
    "        autosize=True,\n",
    "        # height=2000\n",
    ")\n",
    "fig.show()\n",
    "# plot.create_wordcloud_format(data)"
   ]
  },
  {
   "cell_type": "code",
   "execution_count": null,
   "metadata": {},
   "outputs": [],
   "source": [
    "def tag_filter(label, data_slice):\n",
    "    total = data_slice.game_tags.notna().sum()\n",
    "    gt = plot.explode_multiple_choice(data_slice, 'game_tags', delim=',')\n",
    "    fig, counted = plot.horizontal_bar(gt, title='Game tags', col='game_tags', total_responses=total, bot_n=None, top_n=None)\n",
    "    counted['rank'] = counted.num.rank(ascending=False)\n",
    "    old_cols = ['game_tags', 'rank', 'percentage']\n",
    "    new_cols = ['game_tags', f'{label}_rank', f'{label}_perc']\n",
    "    counted = counted[old_cols].rename(columns=dict(zip(old_cols, new_cols)))\n",
    "    return counted\n",
    "\n",
    " \n",
    "def rank_changes(left, right, unit='rank'):\n",
    "    if unit == 'perc':\n",
    "        deltas = (combined[f'{left}_{unit}'] / combined[f'{right}_{unit}'] - 1) * 100\n",
    "    else:\n",
    "        deltas = combined[f'{left}_{unit}'] - combined[f'{right}_{unit}']\n",
    "    print(f'Variance: {np.round(deltas.var(),3)}')\n",
    "    deltas.index = combined.game_tags\n",
    "    deltas = deltas.sort_values()\n",
    "    \n",
    "    return deltas\n",
    "    \n",
    "gd['game_tags_size'] = gd.game_tags.apply(lambda x: len(x.split(',')))\n",
    "young = ('Under 18', '18-25' ) \n",
    "middle = ('26-35',)\n",
    "old = ('36-45', '46+') \n",
    "\n",
    "segments = [\n",
    "    ('all', gd),\n",
    "    ('nonmale', gd[gd.gender != 'Male']),\n",
    "    ('female', gd[gd.gender == 'Female']),\n",
    "    ('nonbinary', gd[gd.gender == 'Non-binary']),\n",
    "    ('male', gd[gd.gender == 'Male']),\n",
    "    ('young', gd[gd.age.isin(young)]),\n",
    "    ('middle', gd[gd.age.isin(middle)]),\n",
    "    ('old', gd[gd.age.isin(old)]),\n",
    "    ('na', gd[gd.continent=='North America']),\n",
    "    ('nonna', gd[gd.continent!='North America']),\n",
    "    ('iOS', gd[gd.desktop_os=='Mac']),\n",
    "    ('android', gd[gd.desktop_os=='Windows']),\n",
    "]\n",
    "\n",
    "\n",
    "combined = tag_filter(*segments[0])\n",
    "for segment in segments[1:]:\n",
    "    new_segment = tag_filter(*segment)\n",
    "    combined = combined.merge(new_segment, on='game_tags', how='inner')\n",
    "    print(f'{segment[0]} avg set size {segment[1].game_tags_size.mean()}')\n",
    "combined\n"
   ]
  },
  {
   "cell_type": "code",
   "execution_count": null,
   "metadata": {},
   "outputs": [],
   "source": [
    "def difference_bar(group1, group2, diffs, exclude_threshold=8):\n",
    "    filtered = diffs[np.abs(diffs) >= exclude_threshold]\n",
    "\n",
    "    plotdf = pd.DataFrame({'diffs':filtered}, index=filtered.index)\n",
    "    plotdf[' '] = plotdf.diffs.apply(lambda x: f'More favored by {group2}' if x > 0 else f'More favored by {group1}')\n",
    "    fig = px.bar(plotdf, y=plotdf.index, x=plotdf.diffs, barmode='relative', color=' ', orientation='h')\n",
    "    fig.update_traces(base=0)\n",
    "    fig.update_layout(height=800, font_size=16, yaxis_showgrid=True, yaxis_gridwidth=3, xaxis_title=f'Rank changes ({group1} ranks minus {group2} ranks)',\n",
    "        legend=dict(orientation=\"h\", xanchor=\"center\",x=0.5, y=1.1) \n",
    "        )\n",
    "    return fig\n",
    "\n",
    "# difference_bar('male', 'non-male', rank_changes('male', 'nonmale'), exclude_threshold=7).show()\n",
    "# difference_bar('non-males', 'males', rank_changes('nonmale', 'male')).show()\n",
    "difference_bar('players 25 and younger', 'players 26-35', rank_changes('young', 'middle', unit='rank')).show()\n",
    "difference_bar('players 26-35', 'players 36 and older', rank_changes('middle', 'old', unit='rank')).show()\n",
    "# difference_bar('players in North America', 'players outside North America', rank_changes('na', 'nonna'), exclude_threshold=7).show()\n"
   ]
  }
 ],
 "metadata": {
  "kernelspec": {
   "display_name": "Python 3.9.12 ('base')",
   "language": "python",
   "name": "python3"
  },
  "language_info": {
   "codemirror_mode": {
    "name": "ipython",
    "version": 3
   },
   "file_extension": ".py",
   "mimetype": "text/x-python",
   "name": "python",
   "nbconvert_exporter": "python",
   "pygments_lexer": "ipython3",
   "version": "3.9.12"
  },
  "orig_nbformat": 4,
  "vscode": {
   "interpreter": {
    "hash": "be1f11b77e582ef8bdffb301d9f77b0b26bcdcef6e8882b5b10ec1d29a538eae"
   }
  }
 },
 "nbformat": 4,
 "nbformat_minor": 2
}
